{
 "cells": [
  {
   "cell_type": "markdown",
   "metadata": {},
   "source": [
    "**NOTE**: This requires the `unstable` branch of [z3](https://github.com/z3prover/z3). "
   ]
  },
  {
   "cell_type": "markdown",
   "metadata": {},
   "source": [
    "I am going to add my git repo of z3 to my sys.path:"
   ]
  },
  {
   "cell_type": "code",
   "execution_count": 1,
   "metadata": {
    "collapsed": false
   },
   "outputs": [],
   "source": [
    "import sys\n",
    "sys.path.insert(0, \"/Users/aaronmeurer/Documents/z3/build\")"
   ]
  },
  {
   "cell_type": "code",
   "execution_count": 2,
   "metadata": {
    "collapsed": false
   },
   "outputs": [],
   "source": [
    "from z3 import Bool, Or, Not, BoolSort, Optimize, IntSort, set_param\n",
    "from clauses import full_clauses, eq, w\n",
    "set_param(verbose=10)"
   ]
  },
  {
   "cell_type": "markdown",
   "metadata": {},
   "source": [
    "The `full_clauses` and `eq` for the example problem `conda install llvmmath anaconda` are in the clauses.py file. \n",
    "\n",
    "First translate stuff to z3."
   ]
  },
  {
   "cell_type": "code",
   "execution_count": 3,
   "metadata": {
    "collapsed": false
   },
   "outputs": [
    {
     "name": "stdout",
     "output_type": "stream",
     "text": [
      "CPU times: user 16.1 s, sys: 254 ms, total: 16.4 s\n",
      "Wall time: 19.4 s\n"
     ]
    }
   ],
   "source": [
    "%%time\n",
    "v = {w[i]: i for i in w}\n",
    "vars = {i: Bool(i) for i in v}\n",
    "\n",
    "z3_clauses = []\n",
    "for clause in full_clauses:\n",
    "    z3_clause = Or(*[vars[w[i]] if i > 0 else Not(vars[w[-i]]) for i in clause])\n",
    "    z3_clauses.append(z3_clause)\n",
    "\n",
    "z3_eq = sum(i*IntSort().cast(vars[w[j]]) for i, j in eq)"
   ]
  },
  {
   "cell_type": "markdown",
   "metadata": {},
   "source": [
    "Now set up a z3 optimize object"
   ]
  },
  {
   "cell_type": "code",
   "execution_count": 4,
   "metadata": {
    "collapsed": false
   },
   "outputs": [
    {
     "name": "stdout",
     "output_type": "stream",
     "text": [
      "CPU times: user 237 ms, sys: 7.24 ms, total: 244 ms\n",
      "Wall time: 281 ms\n"
     ]
    }
   ],
   "source": [
    "%%time\n",
    "o = Optimize()\n",
    "for z3_clause in z3_clauses:\n",
    "    o.add(z3_clause)\n",
    "o.minimize(z3_eq)"
   ]
  },
  {
   "cell_type": "markdown",
   "metadata": {},
   "source": [
    "And solve it. "
   ]
  },
  {
   "cell_type": "code",
   "execution_count": 5,
   "metadata": {
    "collapsed": false
   },
   "outputs": [
    {
     "name": "stdout",
     "output_type": "stream",
     "text": [
      "CPU times: user 2.74 s, sys: 563 ms, total: 3.31 s\n",
      "Wall time: 4.92 s\n"
     ]
    }
   ],
   "source": [
    "%%time\n",
    "o.check()\n",
    "m = o.model()"
   ]
  },
  {
   "cell_type": "code",
   "execution_count": 6,
   "metadata": {
    "collapsed": false
   },
   "outputs": [
    {
     "data": {
      "text/plain": [
       "['(declare-fun anaconda-1.7.0-np17py33_0.tar.bz2 () Bool)',\n",
       " '(declare-fun astropy-0.2.4-np17py33_1.tar.bz2 () Bool)',\n",
       " '(declare-fun bitarray-0.8.1-py33_0.tar.bz2 () Bool)',\n",
       " '(declare-fun curl-7.30.0-1.tar.bz2 () Bool)',\n",
       " '(declare-fun cython-0.19.1-py33_0.tar.bz2 () Bool)',\n",
       " '(declare-fun dateutil-2.1-py33_2.tar.bz2 () Bool)',\n",
       " '(declare-fun distribute-0.6.45-py33_0.tar.bz2 () Bool)',\n",
       " '(declare-fun docutils-0.11-py33_0.tar.bz2 () Bool)',\n",
       " '(declare-fun dynd-python-0.4.2-np17py33_0.tar.bz2 () Bool)',\n",
       " '(declare-fun flask-0.10.1-py33_1.tar.bz2 () Bool)',\n",
       " '(declare-fun freetype-2.4.10-1.tar.bz2 () Bool)',\n",
       " '(declare-fun greenlet-0.4.1-py33_0.tar.bz2 () Bool)',\n",
       " '(declare-fun hdf5-1.8.9-1.tar.bz2 () Bool)',\n",
       " '(declare-fun ipython-1.0.0-py33_0.tar.bz2 () Bool)',\n",
       " '(declare-fun itsdangerous-0.23-py33_0.tar.bz2 () Bool)',\n",
       " '(declare-fun jinja2-2.7.1-py33_0.tar.bz2 () Bool)',\n",
       " '(declare-fun jpeg-8d-1.tar.bz2 () Bool)',\n",
       " '(declare-fun libdynd-0.4.2-0.tar.bz2 () Bool)',\n",
       " '(declare-fun libnetcdf-4.2.1.1-1.tar.bz2 () Bool)',\n",
       " '(declare-fun libpng-1.5.13-1.tar.bz2 () Bool)',\n",
       " '(declare-fun libtiff-4.0.2-0.tar.bz2 () Bool)',\n",
       " '(declare-fun libxml2-2.9.0-1.tar.bz2 () Bool)',\n",
       " '(declare-fun libxslt-1.1.28-1.tar.bz2 () Bool)',\n",
       " '(declare-fun llvm-3.3-0.tar.bz2 () Bool)',\n",
       " '(declare-fun llvmmath-0.1.1-np17py33_2.tar.bz2 () Bool)',\n",
       " '(declare-fun llvmpy-0.12.0-py33_0.tar.bz2 () Bool)',\n",
       " '(declare-fun lxml-3.2.3-py33_0.tar.bz2 () Bool)',\n",
       " '(declare-fun markupsafe-0.18-py33_0.tar.bz2 () Bool)',\n",
       " '(declare-fun matplotlib-1.3.0-np17py33_0.tar.bz2 () Bool)',\n",
       " '(declare-fun mdp-3.3-np17py33_0.tar.bz2 () Bool)',\n",
       " '(declare-fun netcdf4-1.0.5-np17py33_0.tar.bz2 () Bool)',\n",
       " '(declare-fun networkx-1.8.1-py33_0.tar.bz2 () Bool)',\n",
       " '(declare-fun nose-1.3.0-py33_0.tar.bz2 () Bool)',\n",
       " '(declare-fun numba-0.10.2-np17py33_0.tar.bz2 () Bool)',\n",
       " '(declare-fun numpy-1.7.1-py33_0.tar.bz2 () Bool)',\n",
       " '(declare-fun pandas-0.12.0-np17py33_0.tar.bz2 () Bool)',\n",
       " '(declare-fun patsy-0.2.1-np17py33_0.tar.bz2 () Bool)',\n",
       " '(declare-fun pillow-2.1.0-py33_0.tar.bz2 () Bool)',\n",
       " '(declare-fun pip-1.4.1-py33_0.tar.bz2 () Bool)',\n",
       " '(declare-fun ply-3.4-py33_0.tar.bz2 () Bool)',\n",
       " '(declare-fun psutil-1.0.1-py33_0.tar.bz2 () Bool)',\n",
       " '(declare-fun pycosat-0.6.0-py33_0.tar.bz2 () Bool)',\n",
       " '(declare-fun pycparser-2.9.1-py33_0.tar.bz2 () Bool)',\n",
       " '(declare-fun pycrypto-2.6-py33_0.tar.bz2 () Bool)',\n",
       " '(declare-fun pyflakes-0.7.3-py33_0.tar.bz2 () Bool)',\n",
       " '(declare-fun pygments-1.6-py33_0.tar.bz2 () Bool)',\n",
       " '(declare-fun pyparsing-1.5.6-py33_0.tar.bz2 () Bool)',\n",
       " '(declare-fun python-3.3.2-1.tar.bz2 () Bool)',\n",
       " '(declare-fun pytz-2013b-py33_0.tar.bz2 () Bool)',\n",
       " '(declare-fun pyyaml-3.10-py33_0.tar.bz2 () Bool)',\n",
       " '(declare-fun pyzmq-2.2.0.1-py33_1.tar.bz2 () Bool)',\n",
       " '(declare-fun readline-6.2-1.tar.bz2 () Bool)',\n",
       " '(declare-fun requests-1.2.3-py33_0.tar.bz2 () Bool)',\n",
       " '(declare-fun scikit-image-0.8.2-np17py33_2.tar.bz2 () Bool)',\n",
       " '(declare-fun scipy-0.12.0-np17py33_0.tar.bz2 () Bool)',\n",
       " '(declare-fun six-1.4.1-py33_0.tar.bz2 () Bool)',\n",
       " '(declare-fun sphinx-1.1.3-py33_4.tar.bz2 () Bool)',\n",
       " '(declare-fun sqlalchemy-0.8.2-py33_0.tar.bz2 () Bool)',\n",
       " '(declare-fun sqlite-3.7.13-1.tar.bz2 () Bool)',\n",
       " '(declare-fun statsmodels-0.5.0-np17py33_0.tar.bz2 () Bool)',\n",
       " '(declare-fun sympy-0.7.3-py33_0.tar.bz2 () Bool)',\n",
       " '(declare-fun tk-8.5.13-1.tar.bz2 () Bool)',\n",
       " '(declare-fun tornado-3.1.1-py33_0.tar.bz2 () Bool)',\n",
       " '(declare-fun werkzeug-0.9.4-py33_0.tar.bz2 () Bool)',\n",
       " '(declare-fun xlrd-0.9.2-py33_0.tar.bz2 () Bool)',\n",
       " '(declare-fun yaml-0.1.4-1.tar.bz2 () Bool)',\n",
       " '(declare-fun zeromq-2.2.0-1.tar.bz2 () Bool)',\n",
       " '(declare-fun zlib-1.2.7-1.tar.bz2 () Bool)']"
      ]
     },
     "execution_count": 6,
     "metadata": {},
     "output_type": "execute_result"
    }
   ],
   "source": [
    "sorted([i.sexpr() for i in m if m[i].eq(BoolSort().cast(True))])"
   ]
  },
  {
   "cell_type": "code",
   "execution_count": 9,
   "metadata": {
    "collapsed": false
   },
   "outputs": [
    {
     "data": {
      "text/plain": [
       "(:binary-propagations        1708263\n",
       " :conflicts                  2068\n",
       " :decisions                  303222\n",
       " :dyn-subsumption-resolution 562\n",
       " :eliminated-vars            20\n",
       " :maxres-cores               75\n",
       " :minimized-lits             203\n",
       " :mk-binary-clause           34719\n",
       " :mk-bool-var                2984\n",
       " :mk-clause                  4989\n",
       " :mk-ternary-clause          767\n",
       " :propagations               1134156\n",
       " :ternary-propagations       78762)"
      ]
     },
     "execution_count": 9,
     "metadata": {},
     "output_type": "execute_result"
    }
   ],
   "source": [
    "o.statistics()"
   ]
  },
  {
   "cell_type": "code",
   "execution_count": null,
   "metadata": {
    "collapsed": true
   },
   "outputs": [],
   "source": []
  }
 ],
 "metadata": {
  "kernelspec": {
   "display_name": "Python 3",
   "language": "python",
   "name": "python3"
  },
  "language_info": {
   "codemirror_mode": {
    "name": "ipython",
    "version": 3
   },
   "file_extension": ".py",
   "mimetype": "text/x-python",
   "name": "python",
   "nbconvert_exporter": "python",
   "pygments_lexer": "ipython3",
   "version": "3.4.3"
  }
 },
 "nbformat": 4,
 "nbformat_minor": 0
}
